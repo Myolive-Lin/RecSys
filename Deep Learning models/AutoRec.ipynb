{
 "cells": [
  {
   "cell_type": "code",
   "execution_count": 9,
   "metadata": {},
   "outputs": [],
   "source": [
    "import sys\n",
    "sys.path.append(\"..\")\n",
    "\n",
    "import numpy as np\n",
    "import pandas as pd\n",
    "import torch\n",
    "import torch.nn as nn\n",
    "import torch.optim as optim\n",
    "from torch.utils.data import Dataset,DataLoader\n",
    "\n",
    "from tqdm import tqdm\n",
    "from data_processing.data_generate import generate_random_matrix"
   ]
  },
  {
   "cell_type": "code",
   "execution_count": 10,
   "metadata": {},
   "outputs": [],
   "source": [
    "#定义模型\n",
    "class AutoRec(nn.Module):\n",
    "    def __init__(self,input_dim, hidden_dim,learning_rate, variant = 'user'):\n",
    "        \"\"\"\n",
    "        :param input_dim: 输入维度（用户数或物品数）\n",
    "        :param hidden_dim: 隐层维度\n",
    "        :param variant: 模型变体 'item' (I-AutoRec) 或 'user' (U-AutoRec)\n",
    "        \"\"\"\n",
    "        super(AutoRec,self).__init__()\n",
    "        self.input_dim = input_dim\n",
    "        self.hidden_dim = hidden_dim\n",
    "        self.laerning_rate = learning_rate\n",
    "\n",
    "        self.encoder = nn.Sequential(\n",
    "            nn.Linear(input_dim, hidden_dim),\n",
    "            nn.Sigmoid()\n",
    "        )\n",
    "\n",
    "        self.decoder = nn.Sequential(\n",
    "            nn.Linear(hidden_dim,input_dim)\n",
    "        )\n",
    "\n",
    "    def forward(self,x):\n",
    "        encoded = self.encoder(x)\n",
    "        decoded = self.decoder(encoded)\n",
    "        return decoded\n",
    "\n",
    "    def get_regularization(self, lambda = 0.):\n",
    "        \"\"\" \n",
    "        计算正则项\n",
    "        \"\"\"\n",
    "        \n",
    "\n"
   ]
  },
  {
   "cell_type": "code",
   "execution_count": 11,
   "metadata": {},
   "outputs": [],
   "source": [
    "#定义数据类\n",
    "class RatingDataset(Dataset):\n",
    "    def __init__(self,rating_matrix):\n",
    "        self.rating_matrix = rating_matrix\n",
    "\n",
    "    def __len__(self):\n",
    "        return len(self.rating_matrix)\n",
    "    \n",
    "    def __getitem(self,idx):\n",
    "        return torch.tensor(self.rating_matrix[idx], dtype = torch.float32)"
   ]
  },
  {
   "cell_type": "code",
   "execution_count": null,
   "metadata": {},
   "outputs": [],
   "source": [
    "# 定义训练函数\n",
    "def train_model(model, train_loader, criterion, optimizer, num_epochs = 100):\n",
    "    model.train()\n",
    "\n",
    "    "
   ]
  }
 ],
 "metadata": {
  "kernelspec": {
   "display_name": "base",
   "language": "python",
   "name": "python3"
  },
  "language_info": {
   "codemirror_mode": {
    "name": "ipython",
    "version": 3
   },
   "file_extension": ".py",
   "mimetype": "text/x-python",
   "name": "python",
   "nbconvert_exporter": "python",
   "pygments_lexer": "ipython3",
   "version": "3.10.9"
  }
 },
 "nbformat": 4,
 "nbformat_minor": 2
}
