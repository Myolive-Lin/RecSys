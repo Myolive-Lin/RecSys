{
 "cells": [
  {
   "cell_type": "code",
   "execution_count": 1,
   "metadata": {},
   "outputs": [],
   "source": [
    "import torch\n",
    "import torch.nn as nn\n",
    "from tqdm import tqdm\n",
    "import torch.optim as optim\n",
    "import numpy as np\n",
    "\n",
    "from torch.utils.data import Dataset,DataLoader\n",
    "from sklearn.model_selection import train_test_split\n",
    "from sklearn.metrics import classification_report\n",
    "from sklearn.metrics import roc_auc_score,roc_curve,auc\n",
    "from sklearn.datasets import make_classification\n",
    "\n",
    "import matplotlib.pyplot as plt"
   ]
  },
  {
   "cell_type": "code",
   "execution_count": 51,
   "metadata": {},
   "outputs": [],
   "source": [
    "class Config:\n",
    "    num_users = 1000\n",
    "    num_items = 2000\n",
    "    embed_dim = 16\n",
    "    hidden_dims = [64, 32, 16]\n",
    "    batch_size = 32\n",
    "    lr = 0.001\n",
    "    num_epochs = 30\n",
    "\n",
    "# 自定义数据集类\n",
    "class CFDataset(Dataset):\n",
    "    def __init__(self, num_samples=10000):\n",
    "        # 生成示例数据（实际使用时替换为真实数据）\n",
    "        self.user_ids = np.random.randint(0, Config.num_users, size=num_samples)\n",
    "        self.item_ids = np.random.randint(0, Config.num_items, size=num_samples)\n",
    "        self.labels = np.random.randint(0, 2, size=num_samples).astype(np.float32)\n",
    "    \n",
    "    def __len__(self):\n",
    "        return len(self.user_ids)\n",
    "    \n",
    "    def __getitem__(self, idx):\n",
    "        return (\n",
    "            torch.tensor(self.user_ids[idx], dtype=torch.long),\n",
    "            torch.tensor(self.item_ids[idx], dtype=torch.long),\n",
    "            torch.tensor(self.labels[idx], dtype=torch.float)\n",
    "        )"
   ]
  },
  {
   "cell_type": "code",
   "execution_count": 52,
   "metadata": {},
   "outputs": [],
   "source": [
    "class NeuralCF(nn.Module):\n",
    "    def __init__(self, Config):\n",
    "        super().__init__()\n",
    "        # 定义用户和物品的隐向量\n",
    "        self.user_embed_gmf = nn.Embedding(Config.num_users, Config.embed_dim)  # GMF用户隐向量\n",
    "        self.item_embed_gmf = nn.Embedding(Config.num_items, Config.embed_dim)  # GMF物品隐向量\n",
    "\n",
    "        self.user_embed_mlp = nn.Embedding(Config.num_users, Config.embed_dim)  # MLP用户隐向量\n",
    "        self.item_embed_mlp = nn.Embedding(Config.num_items, Config.embed_dim)  # MLP物品隐向量\n",
    "\n",
    "        # MLP层\n",
    "        input_dim = 2 * Config.embed_dim\n",
    "        mlp_layers = []\n",
    "        for output_dim in Config.hidden_dims:\n",
    "            mlp_layers.append(nn.Linear(input_dim, output_dim))\n",
    "            mlp_layers.append(nn.ReLU())\n",
    "            input_dim = output_dim\n",
    "\n",
    "        self.mlp = nn.Sequential(*mlp_layers)\n",
    "\n",
    "        # 输出层\n",
    "        total_dim = Config.embed_dim + Config.hidden_dims[-1]  # GMF + MLP层维度\n",
    "        self.fc = nn.Sequential(\n",
    "            nn.Linear(total_dim, 1),\n",
    "            nn.Sigmoid()\n",
    "        )\n",
    "    \n",
    "    def forward(self, user_ids, item_ids):\n",
    "        # 获取用户和物品的隐向量\n",
    "        user_emb_gmf = self.user_embed_gmf(user_ids)\n",
    "        item_emb_gmf = self.item_embed_gmf(item_ids)\n",
    "\n",
    "        user_emb_mlp = self.user_embed_mlp(user_ids)\n",
    "        item_emb_mlp = self.item_embed_mlp(item_ids)\n",
    "\n",
    "        # GMF: 逐元素乘积\n",
    "        gmf = user_emb_gmf * item_emb_gmf\n",
    "\n",
    "        # MLP: 拼接并通过多层感知机\n",
    "        concat_emb = torch.cat([user_emb_mlp, item_emb_mlp], dim=1)\n",
    "        mlp = self.mlp(concat_emb)\n",
    "\n",
    "        # 拼接GMF和MLP的结果\n",
    "        neuralcf_emb = torch.cat([mlp, gmf], dim=1)\n",
    "\n",
    "        # 输出层\n",
    "        output = self.fc(neuralcf_emb).squeeze()\n",
    "        return output\n"
   ]
  },
  {
   "cell_type": "code",
   "execution_count": 50,
   "metadata": {},
   "outputs": [
    {
     "name": "stderr",
     "output_type": "stream",
     "text": [
      "Training: 100%|███████████████████████████████████| 100/100 [00:39<00:00,  2.51epoch/s, Loss=0.0031]\n"
     ]
    }
   ],
   "source": [
    "dataset = CFDataset()\n",
    "dataloader = DataLoader(dataset, batch_size=Config.batch_size, shuffle=True)\n",
    "model = NeuralCF(Config)\n",
    "criterion = nn.BCELoss()\n",
    "optimizer = optim.Adam(model.parameters(), lr=Config.lr)\n",
    "\n",
    "# 训练循环\n",
    "pbar = tqdm(range(Config.num_epochs), unit=\"epoch\", desc=\"Training\", ncols = 100)\n",
    "\n",
    "for epoch in pbar:\n",
    "    total_loss = 0.0\n",
    "    for user_ids, item_ids, labels in dataloader:\n",
    "        optimizer.zero_grad()\n",
    "        predictions = model(user_ids, item_ids)\n",
    "        loss = criterion(predictions, labels)\n",
    "        loss.backward()\n",
    "        optimizer.step()\n",
    "        total_loss += loss.item()\n",
    "    \n",
    "    avg_loss = total_loss / len(dataloader)\n",
    "    pbar.set_postfix({\"Loss\": f\"{avg_loss:.4f}\"})\n",
    "\n"
   ]
  }
 ],
 "metadata": {
  "kernelspec": {
   "display_name": "base",
   "language": "python",
   "name": "python3"
  },
  "language_info": {
   "codemirror_mode": {
    "name": "ipython",
    "version": 3
   },
   "file_extension": ".py",
   "mimetype": "text/x-python",
   "name": "python",
   "nbconvert_exporter": "python",
   "pygments_lexer": "ipython3",
   "version": "3.10.9"
  }
 },
 "nbformat": 4,
 "nbformat_minor": 2
}
