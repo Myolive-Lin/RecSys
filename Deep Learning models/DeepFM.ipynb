{
 "cells": [
  {
   "cell_type": "code",
   "execution_count": 46,
   "metadata": {},
   "outputs": [],
   "source": [
    "import pandas as pd\n",
    "import numpy as np\n",
    "import torch\n",
    "import torch.nn as nn\n",
    "import torch.optim as optim\n",
    "from torch.utils.data import DataLoader, Dataset\n",
    "from tqdm import tqdm\n",
    "from sklearn.model_selection import train_test_split\n",
    "from sklearn.datasets import make_classification\n",
    "from sklearn.metrics import roc_auc_score\n",
    "from sklearn.metrics import accuracy_score,roc_auc_score"
   ]
  },
  {
   "cell_type": "markdown",
   "metadata": {},
   "source": [
    "### 1. 定义模型"
   ]
  },
  {
   "cell_type": "code",
   "execution_count": 47,
   "metadata": {},
   "outputs": [],
   "source": [
    "class DeepFM(nn.Module):\n",
    "    def __init__(self, feature_sizes, embedding_dim=10, hidden_dims=[64, 32], num_classes=1,dropout = 0.2):\n",
    "        \"\"\"\n",
    "        feature_sizes: 每个特征的唯一值数量列表\n",
    "        embedding_dim: 嵌入维度\n",
    "        hidden_dims: DNN隐藏层维度列表\n",
    "        num_classes: 输出维度（二分类为1）\n",
    "        \"\"\"\n",
    "        super(DeepFM, self).__init__()\n",
    "        self.feature_sizes = feature_sizes\n",
    "        self.num_fields = len(feature_sizes)\n",
    "        self.embedding_dim = embedding_dim\n",
    "\n",
    "        #FM 一阶项\n",
    "        self.linear = nn.Embedding(sum(feature_sizes) + 1, 1)\n",
    "\n",
    "        #FM/DNN 共享嵌入层\n",
    "        self.embedding = nn.ModuleList([\n",
    "            nn.Embedding(dim, embedding_dim)\n",
    "            for dim in feature_sizes\n",
    "        ])\n",
    "\n",
    "        #DNN 部分\n",
    "        dnn_input_dim = self.num_fields * embedding_dim\n",
    "        self.dnn = nn.Sequential()\n",
    "        for i, hidden_dim in enumerate(hidden_dims):\n",
    "            self.dnn.add_module(\n",
    "                name = f\"fc_{i}\",\n",
    "                module = nn.Linear(dnn_input_dim, hidden_dim)\n",
    "            )\n",
    "            self.dnn.add_module(\n",
    "                name = f\"bn_{i}\",\n",
    "                module = nn.BatchNorm1d(hidden_dim)\n",
    "            )\n",
    "\n",
    "            self.dnn.add_module(\n",
    "                name = f\"relu_{i}\",\n",
    "                module = nn.ReLU()\n",
    "            )\n",
    "            self.dnn.add_module(\n",
    "                name = f\"dropout_{i}\",\n",
    "                module = nn.Dropout(dropout)\n",
    "            )\n",
    "            dnn_input_dim = hidden_dim\n",
    "\n",
    "        #最终输出层\n",
    "        self.dnn_output = nn.Linear(hidden_dims[-1], num_classes)\n",
    "\n",
    "        #初始化权重\n",
    "        self._initialize_weights()\n",
    "\n",
    "    def _initialize_weights(self):\n",
    "        for m in self.modules(): \n",
    "            if isinstance(m, nn.Embedding):\n",
    "                nn.init.xavier_normal_(m.weight) #使用Xavier初始化\n",
    "            elif isinstance(m, nn.Linear):\n",
    "                nn.init.xavier_normal_(m.weight)#原地修改\n",
    "                nn.init.constant_(m.bias, 0) \n",
    "            \n",
    "    def forward(self,x):\n",
    "        \"\"\"\n",
    "        x: 输入特征 [batch_size, num_fields] (LongTensor)\n",
    "        \"\"\"\n",
    "\n",
    "        #FM 一阶项\n",
    "        linear_part = torch.sum(self.linear(x), dim = 1) #[batch_size, 1]\n",
    "\n",
    "        #获取嵌入向量\n",
    "        embeds = []\n",
    "        for i in range(self.num_fields):\n",
    "            embed = self.embedding[i](x[:, i]) #[batch_size, embedding_dim]\n",
    "            embeds.append(embed)\n",
    "            \n",
    "        #FM 二阶段项,注意这里采用化简公式计算\n",
    "        fm_second_order = 0\n",
    "        sum_embed = torch.stack(embeds, dim = 1) #[batch_size, num_fields, embedding_dim]\n",
    "        sum_embed = torch.sum(sum_embed, dim = 1) #[batch_size, embedding_dim],其实就是将所有的特征与给加起来\n",
    "\n",
    "        square_of_sum = sum_embed.pow(2) #[batch_size, embedding_dim]\n",
    "\n",
    "        sum_of_square = torch.stack([e.pow(2) for e in embeds],dim = 1).sum(dim = 1) #[batch_size, embedding_dim]\n",
    "        fm_second_order = 0.5 * (square_of_sum - sum_of_square).sum(dim = 1, keepdim = True) #[batch_size, 1]\n",
    "\n",
    "        #DNN部分\n",
    "        dnn_input = torch.cat(embeds, dim = 1) #[batch_size, num_fields * embedding_dim]\n",
    "        dnn_output = self.dnn(dnn_input) #[batch_size, hidden_dims[-1]]\n",
    "        dnn_final_output = self.dnn_output(dnn_output) #[batch_size, num_classes(二分类为1)]\n",
    "\n",
    "        #输出\n",
    "        output = linear_part + fm_second_order + dnn_final_output #[batch_size, num_classes(二分类为1)]\n",
    "        return torch.sigmoid(output).squeeze(1)\n"
   ]
  },
  {
   "cell_type": "markdown",
   "metadata": {},
   "source": [
    "### 2. 构建数据集"
   ]
  },
  {
   "cell_type": "code",
   "execution_count": 48,
   "metadata": {},
   "outputs": [],
   "source": [
    "class CustomDataset(Dataset):\n",
    "    def __init__(self, num_samples, feature_sizes):\n",
    "        self.num_samples = num_samples\n",
    "        self.feature_sizes = feature_sizes\n",
    "        \n",
    "        # 生成数值型特征数据\n",
    "        self.num_data = torch.randn(num_samples, len(feature_sizes)).float()\n",
    "        \n",
    "        # 生成类别型特征数据\n",
    "        self.cat_data = torch.cat([\n",
    "            torch.randint(0, dim, (num_samples, 1)) for dim in feature_sizes\n",
    "        ], dim=1)\n",
    "\n",
    "        # 生成标签\n",
    "        self.labels = torch.randint(0, 2, (num_samples,)).float()\n",
    "\n",
    "    def __len__(self):\n",
    "        return self.num_samples\n",
    "\n",
    "    def __getitem__(self, idx):\n",
    "        return self.num_data[idx], self.cat_data[idx], self.labels[idx]"
   ]
  },
  {
   "cell_type": "markdown",
   "metadata": {},
   "source": [
    "### 3. 模型配置"
   ]
  },
  {
   "cell_type": "code",
   "execution_count": 49,
   "metadata": {},
   "outputs": [],
   "source": [
    "# 定义配置\n",
    "config = {\n",
    "    \"feature_sizes\" : [10, 20, 5],\n",
    "    \"embedding_dim\": 16,               # 嵌入维度\n",
    "    \"hidden_dims\": [128, 64,32],        # 深度网络隐藏层维度列表\n",
    "    \"dropout\": 0.3,                   # Dropout率\n",
    "    \"batch_size\": 32,                 # 批量大小\n",
    "    \"num_epochs\": 30,                 # 训练轮数\n",
    "    \"num_samples\": 1000,              # 数据集样本数量\n",
    "    \"learning_rate\": 0.005,            # 学习率\n",
    "    \"weight_decay\" : 0.001              #l2正则化\n",
    "}\n"
   ]
  },
  {
   "cell_type": "code",
   "execution_count": 50,
   "metadata": {},
   "outputs": [],
   "source": [
    "# 初始化数据集和数据加载器\n",
    "train_dataset = CustomDataset(config[\"num_samples\"], config[\"feature_sizes\"])\n",
    "train_loader = DataLoader(train_dataset, batch_size=config[\"batch_size\"], shuffle=True)\n",
    "\n",
    "device = torch.device(\"cuda\" if torch.cuda.is_available() else \"cpu\")\n",
    "\n",
    "# 初始化模型并移至设备\n",
    "model = DeepFM(\n",
    "    feature_sizes=config['feature_sizes'],\n",
    "    embedding_dim=config['embedding_dim'],\n",
    "    hidden_dims=config['hidden_dims'],\n",
    "    dropout=config['dropout']\n",
    ").to(device)\n",
    "\n",
    "\n",
    "# 定义损失函数和优化器\n",
    "criterion = nn.BCELoss()\n",
    "optimizer = optim.Adam(model.parameters(), lr=config[\"learning_rate\"],weight_decay=config[\"weight_decay\"])"
   ]
  },
  {
   "cell_type": "markdown",
   "metadata": {},
   "source": [
    "### 4. 模型训练"
   ]
  },
  {
   "cell_type": "code",
   "execution_count": 51,
   "metadata": {},
   "outputs": [
    {
     "name": "stderr",
     "output_type": "stream",
     "text": [
      "Training Progress: 100%|██████████| 30/30 [00:02<00:00, 14.53epoch/s, loss=0.567]\n"
     ]
    }
   ],
   "source": [
    "from tqdm import tqdm  # 导入 tqdm 库\n",
    "\n",
    "# 训练过程\n",
    "pbar = tqdm(range(config[\"num_epochs\"]), desc=\"Training Progress\", unit=\"epoch\") \n",
    "for epoch in pbar:\n",
    "    model.train()  \n",
    "    running_loss = 0.0\n",
    "    \n",
    "    for continuous, categorical, labels in train_loader:\n",
    "        continuous, categorical, labels = continuous.to(device), categorical.to(device), labels.to(device)\n",
    "        \n",
    "        optimizer.zero_grad()\n",
    "\n",
    "        outputs = model(categorical)\n",
    "        loss = criterion(outputs, labels)\n",
    "\n",
    "        loss.backward()\n",
    "        optimizer.step()\n",
    "\n",
    "        running_loss += loss.item() * continuous.size(0)\n",
    "\n",
    "    epoch_loss = running_loss / len(train_loader.dataset)\n",
    "\n",
    "    # 使用 set_postfix 更新进度条上的损失\n",
    "    pbar.set_postfix(loss=epoch_loss)\n",
    "\n"
   ]
  }
 ],
 "metadata": {
  "kernelspec": {
   "display_name": "base",
   "language": "python",
   "name": "python3"
  },
  "language_info": {
   "codemirror_mode": {
    "name": "ipython",
    "version": 3
   },
   "file_extension": ".py",
   "mimetype": "text/x-python",
   "name": "python",
   "nbconvert_exporter": "python",
   "pygments_lexer": "ipython3",
   "version": "3.10.9"
  }
 },
 "nbformat": 4,
 "nbformat_minor": 2
}
