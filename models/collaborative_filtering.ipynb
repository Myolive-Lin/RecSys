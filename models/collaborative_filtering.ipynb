{
 "cells": [
  {
   "cell_type": "code",
   "execution_count": 56,
   "metadata": {},
   "outputs": [],
   "source": [
    "\"\"\"\n",
    "Author: Myolive_Lin\n",
    "Description: Code implementation of three methods for calculating user similarity\n",
    "\"\"\"\n",
    "\n",
    "\n",
    "import sys\n",
    "import os\n",
    "import numpy as np\n",
    "\n",
    "current_dir = os.getcwd()\n",
    "parent_dir = os.path.dirname(current_dir)\n",
    "sys.path.append(parent_dir)\n",
    "\n",
    "\n"
   ]
  },
  {
   "cell_type": "code",
   "execution_count": 57,
   "metadata": {},
   "outputs": [],
   "source": [
    "import importlib\n",
    "from data_processing import data_generate\n",
    "\n",
    "importlib.reload(data_generate)\n",
    "\n",
    "from data_processing.data_generate import generate_random_matrix\n"
   ]
  },
  {
   "cell_type": "code",
   "execution_count": 58,
   "metadata": {},
   "outputs": [],
   "source": [
    "# Cosine Similarity\n",
    "def cosine_similarity(v1,v2):\n",
    "    \"\"\"\n",
    "    Calculate cosine similarity between two vectors\n",
    "    Args:\n",
    "        v1 (np.array): vector 1\n",
    "        v2 (np.array): vector 2\n",
    "    Returns:\n",
    "        float: cosine similarity\n",
    "    \"\"\"\n",
    "    dot = float(np.dot(v1,v2))\n",
    "    norm_v1 = np.linalg.norm(v1)\n",
    "    norm_v2 = np.linalg.norm(v2)\n",
    "\n",
    "    return dot/(norm_v1*norm_v2)"
   ]
  },
  {
   "cell_type": "code",
   "execution_count": 59,
   "metadata": {},
   "outputs": [],
   "source": [
    "def Peason_similarity(vector1,vector2):\n",
    "    \"\"\"\n",
    "    Calculate Peason similarity between two vectors\n",
    "    Args:\n",
    "        vector1 (np.array): vector 1\n",
    "        vector2 (np.array): vector 2\n",
    "    Returns:\n",
    "        float: Peason similarity\n",
    "    \"\"\"\n",
    "    \n",
    "    mean_v1 = np.mean(vector1)\n",
    "    mean_v2 = np.mean(vector2)\n",
    "\n",
    "    # Calculate the standard deviation of each vector,\n",
    "    # The usage of numpy can directly make each vector have an average value\n",
    "    std_v1 = np.sqrt(np.sum((vector1 - mean_v1) ** 2))\n",
    "    std_v2 = np.sqrt(np.sum((vector2 - mean_v2) ** 2))\n",
    "\n",
    "    # Using numpy's broadcast mechanism, first subtract the respective averages from both vectors, \n",
    "    # then multiply the corresponding positions and then sum.\n",
    "    product = np.sum( (vector1 - mean_v1) * (vector2 - mean_v2))\n",
    "\n",
    "    similarity = product / (std_v1 * std_v2)\n",
    "\n",
    "    return similarity\n"
   ]
  },
  {
   "cell_type": "code",
   "execution_count": 104,
   "metadata": {},
   "outputs": [],
   "source": [
    "#Introducing the similarity calculation formula for the average score of items\n",
    "def similarity_mean_item(vector1,vector2,matrix):\n",
    "    \"\"\"\n",
    "    Calculate similarity between two vectors\n",
    "    Args:\n",
    "        vector1 (np.array): vector 1\n",
    "        vector2 (np.array): vector 2\n",
    "        matrix (np.array): matrix\n",
    "    Returns:\n",
    "        float: similarity\n",
    "    \"\"\"\n",
    "    \n",
    "\n",
    "    mean_item = np.mean(matrix,axis = 0)\n",
    "\n",
    "    product = np.sum((vector1 - mean_item) * (vector2 - mean_item))\n",
    "\n",
    "    std_v1 = np.sqrt(np.sum((vector1 - mean_item)**2))\n",
    "    std_v2 = np.sqrt(np.sum((vector2 - mean_item)**2))\n",
    "\n",
    "    similarity = product / (std_v1 * std_v2)\n",
    "\n",
    "    return similarity"
   ]
  },
  {
   "cell_type": "code",
   "execution_count": 130,
   "metadata": {},
   "outputs": [],
   "source": [
    "def Calculate_Top_k_Recommendation(user_vecotr, matrix,k):\n",
    "    res = []\n",
    "    for i in range(len(matrix)):\n",
    "        res.append((i,cosine_similarity(user_vecotr, matrix[i])))\n",
    "    \n",
    "    res.sort(key = lambda x: x[1], reverse = True)\n",
    "    return res[:k+1]"
   ]
  },
  {
   "cell_type": "code",
   "execution_count": 131,
   "metadata": {},
   "outputs": [
    {
     "data": {
      "text/plain": [
       "[(0, 0.9999999999999998),\n",
       " (3, 0.5773502691896258),\n",
       " (1, 0.4999999999999999),\n",
       " (2, 0.2886751345948129)]"
      ]
     },
     "execution_count": 131,
     "metadata": {},
     "output_type": "execute_result"
    }
   ],
   "source": [
    "Calculate_Top_k_Recommendation(matrix[0],matrix,3)"
   ]
  },
  {
   "cell_type": "code",
   "execution_count": 106,
   "metadata": {},
   "outputs": [
    {
     "data": {
      "text/plain": [
       "array([[0, 1, 0, 0, 0, 1, 0, 0],\n",
       "       [0, 1, 0, 0, 0, 0, 1, 0],\n",
       "       [1, 1, 1, 0, 1, 0, 1, 1],\n",
       "       [1, 1, 1, 1, 1, 1, 0, 0]])"
      ]
     },
     "execution_count": 106,
     "metadata": {},
     "output_type": "execute_result"
    }
   ],
   "source": [
    "matrix = generate_random_matrix(4,8,0,1,42)\n",
    "matrix"
   ]
  },
  {
   "cell_type": "code",
   "execution_count": null,
   "metadata": {},
   "outputs": [],
   "source": []
  }
 ],
 "metadata": {
  "kernelspec": {
   "display_name": "base",
   "language": "python",
   "name": "python3"
  },
  "language_info": {
   "codemirror_mode": {
    "name": "ipython",
    "version": 3
   },
   "file_extension": ".py",
   "mimetype": "text/x-python",
   "name": "python",
   "nbconvert_exporter": "python",
   "pygments_lexer": "ipython3",
   "version": "3.10.9"
  }
 },
 "nbformat": 4,
 "nbformat_minor": 2
}
