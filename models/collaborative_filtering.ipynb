{
 "cells": [
  {
   "cell_type": "code",
   "execution_count": 6,
   "metadata": {},
   "outputs": [],
   "source": [
    "\"\"\"\n",
    "Author: Myolive_Lin\n",
    "Description: Code implementation of three methods for calculating user similarity\n",
    "\"\"\"\n",
    "\n",
    "import sys\n",
    "import os\n",
    "import numpy as np\n",
    "import pandas as pd\n",
    "\n",
    "current_dir = os.getcwd()\n",
    "parent_dir = os.path.dirname(current_dir)\n",
    "sys.path.append(parent_dir)\n",
    "\n",
    "\n",
    "import importlib\n",
    "from data_processing import data_generate\n",
    "\n",
    "importlib.reload(data_generate)\n",
    "\n",
    "from data_processing.data_generate import generate_random_matrix\n"
   ]
  },
  {
   "cell_type": "markdown",
   "metadata": {},
   "source": [
    "### UserCF\n",
    "下面是计算用户相似度的三种方法\\\n",
    "Here are three ways to calculate user similarity"
   ]
  },
  {
   "cell_type": "markdown",
   "metadata": {},
   "source": [
    "**余弦相似度**，如（式2-1）所示。<u>余弦相似度(CosineSimilarity)衡量了用户向量i和用户向量j之间的向量夹角大小。\\\n",
    "显然，夹角越小，证明余弦相似度越大，两个用户越相似。</u>\n",
    "\n",
    "$$ sim(i,j) = cos(i,j) = \\frac{i\\cdot j}{||i|| \\cdot ||j||}$$"
   ]
  },
  {
   "cell_type": "code",
   "execution_count": 7,
   "metadata": {},
   "outputs": [],
   "source": [
    "# Cosine Similarity\n",
    "def cosine_similarity(v1,v2):\n",
    "    \"\"\"\n",
    "    Calculate cosine similarity between two vectors\n",
    "    Args:\n",
    "        v1 (np.array): vector 1\n",
    "        v2 (np.array): vector 2\n",
    "    Returns:\n",
    "        float: cosine similarity\n",
    "    \"\"\"\n",
    "    dot = float(np.dot(v1,v2))\n",
    "    norm_v1 = np.linalg.norm(v1)\n",
    "    norm_v2 = np.linalg.norm(v2)\n",
    "\n",
    "    return dot/(norm_v1*norm_v2)"
   ]
  },
  {
   "cell_type": "markdown",
   "metadata": {},
   "source": [
    "**皮尔逊相关系数**，如（式2-2）所示。相比余弦相似度，**皮尔逊相关系数通过使用用户平均分对各独立评分进行修正，减少了用户评分偏置的影响**\n",
    "$$\\text{Sim}(i, j) = \\frac{\\sum_{p \\in P} (R_{i,p} - \\bar{R_i})(R_{j,p} - \\bar{R_j})}{\\sqrt{\\sum_{p \\in P} (R_{i,p} - \\bar{R_{i}})^2} \\cdot \\sqrt{\\sum_{p \\in P} (R_{j,p} - \\bar{R_{j}})^2}}$$\n",
    "\n",
    "其中，Ri，p代表用户i对物品p的评分。$\\bar{R_i}$代表用户i对所有物品的平均评分，P代表所有物品的集合。"
   ]
  },
  {
   "cell_type": "code",
   "execution_count": 8,
   "metadata": {},
   "outputs": [],
   "source": [
    "def Peason_similarity(vector1,vector2):\n",
    "    \"\"\"\n",
    "    Calculate Peason similarity between two vectors\n",
    "    Args:\n",
    "        vector1 (np.array): vector 1\n",
    "        vector2 (np.array): vector 2\n",
    "    Returns:\n",
    "        float: Peason similarity\n",
    "    \"\"\"\n",
    "    \n",
    "    mean_v1 = np.mean(vector1)\n",
    "    mean_v2 = np.mean(vector2)\n",
    "\n",
    "    # Calculate the standard deviation of each vector,\n",
    "    # The usage of numpy can directly make each vector have an average value\n",
    "    std_v1 = np.sqrt(np.sum((vector1 - mean_v1) ** 2))\n",
    "    std_v2 = np.sqrt(np.sum((vector2 - mean_v2) ** 2))\n",
    "\n",
    "    # Using numpy's broadcast mechanism, first subtract the respective averages from both vectors, \n",
    "    # then multiply the corresponding positions and then sum.\n",
    "    product = np.sum( (vector1 - mean_v1) * (vector2 - mean_v2))\n",
    "\n",
    "    similarity = product / (std_v1 * std_v2)\n",
    "\n",
    "    return similarity\n"
   ]
  },
  {
   "cell_type": "markdown",
   "metadata": {},
   "source": [
    "基于皮尔逊系数的思路，**还可以通过引入物品平均分的方式，减少物品评分偏置对结果的影响**，如下所示\n",
    "$$\\text{Sim}(I, J) = \\frac{\\sum_{p \\in P} (R_{i,p} - \\bar{R}_p)(R_{j,p} - \\bar{R}_p)}{\\sqrt{\\sum_{p \\in P} (R_{i,p} - \\bar{R}_p)^2} \\cdot \\sqrt{\\sum_{p \\in P} (R_{j,p} - \\bar{R}_p)^2}}$$\n",
    "\n",
    "其中，\\( $\\bar{R}_{p}$ \\) 代表物品p得到所有评分的平均分。"
   ]
  },
  {
   "cell_type": "code",
   "execution_count": 9,
   "metadata": {},
   "outputs": [],
   "source": [
    "#Introducing the similarity calculation formula for the average score of items\n",
    "def similarity_mean_item(vector1,vector2,matrix):\n",
    "    \"\"\"\n",
    "    Calculate similarity between two vectors\n",
    "    Args:\n",
    "        vector1 (np.array): vector 1\n",
    "        vector2 (np.array): vector 2\n",
    "        matrix (np.array): matrix\n",
    "    Returns:\n",
    "        float: similarity\n",
    "    \"\"\"\n",
    "    \n",
    "\n",
    "    mean_item = np.mean(matrix,axis = 0)\n",
    "\n",
    "    product = np.sum((vector1 - mean_item) * (vector2 - mean_item))\n",
    "\n",
    "    std_v1 = np.sqrt(np.sum((vector1 - mean_item)**2))\n",
    "    std_v2 = np.sqrt(np.sum((vector2 - mean_item)**2))\n",
    "\n",
    "    similarity = product / (std_v1 * std_v2)\n",
    "\n",
    "    return similarity"
   ]
  },
  {
   "cell_type": "code",
   "execution_count": 95,
   "metadata": {},
   "outputs": [],
   "source": [
    "\n",
    "def Calculate_Top_k_User(user_vecotr, matrix,k):\n",
    "    # 根据用户向量选出k个最相似的用户\n",
    "    # 输入：用户向量，用户矩阵，k\n",
    "    # 输出：k个最相似的用户的索引\n",
    "    # 相似度采用余弦相似度\n",
    "    # 相似度越大，越相似\n",
    "    res = []\n",
    "    for i in range(len(matrix)):\n",
    "        res.append((i,cosine_similarity(user_vecotr, matrix[i])))\n",
    "    \n",
    "    res.sort(key = lambda x: x[1], reverse = True)\n",
    "    return res[1:k+1]"
   ]
  },
  {
   "cell_type": "code",
   "execution_count": 96,
   "metadata": {},
   "outputs": [
    {
     "data": {
      "text/plain": [
       "array([[3, 4, 2, 4, 4, 1, 2, 2],\n",
       "       [2, 4, 3, 2, 5, 4, 1, 3],\n",
       "       [5, 5, 1, 3, 4, 0, 3, 1],\n",
       "       [5, 4, 3, 0, 0, 2, 2, 1]])"
      ]
     },
     "execution_count": 96,
     "metadata": {},
     "output_type": "execute_result"
    }
   ],
   "source": [
    "# 生成随机矩阵\n",
    "matrix = generate_random_matrix(4,8,0,5,42)\n",
    "matrix"
   ]
  },
  {
   "cell_type": "code",
   "execution_count": 97,
   "metadata": {},
   "outputs": [
    {
     "data": {
      "text/plain": [
       "[(2, 0.9408591535633023), (1, 0.8867889026274118), (3, 0.7002247996006618)]"
      ]
     },
     "execution_count": 97,
     "metadata": {},
     "output_type": "execute_result"
    }
   ],
   "source": [
    "#示例: 获得第一个用户,前三个最相似的用户\n",
    "Calculate_Top_k_User(matrix[0],matrix,3)"
   ]
  },
  {
   "cell_type": "code",
   "execution_count": 112,
   "metadata": {},
   "outputs": [],
   "source": [
    "# 利用用户相似度和相似用户的评价加权平均获取目标用户的评价\n",
    "def get_evaluation_prediction(user_index, item_index,matrix,k):\n",
    "    #注意这里如果我们是要预测第item_index个商品的话，我们是需要把这个商品从矩阵中去掉的,因为这个列其实对于目标用户来说还是未知的,所以也不适合用于计算相似度\n",
    "    user_vector = np.delete(matrix[user_index],item_index)\n",
    "\n",
    "    target_matrix = np.delete(matrix,item_index,axis = 1)\n",
    "\n",
    "    top_k_user = Calculate_Top_k_User(user_vector,target_matrix,k)\n",
    "\n",
    "    evaluation_prediction = 0\n",
    "    sum = 0\n",
    "\n",
    "    # 遍历相似用户\n",
    "    for user in top_k_user:\n",
    "        # 计算用户相似度\n",
    "        evaluation_prediction += user[1] * matrix[user[0]][item_index]\n",
    "        sum += user[1]\n",
    "\n",
    "    return evaluation_prediction / sum"
   ]
  },
  {
   "cell_type": "code",
   "execution_count": 114,
   "metadata": {},
   "outputs": [
    {
     "data": {
      "text/plain": [
       "1.6982366845190702"
      ]
     },
     "execution_count": 114,
     "metadata": {},
     "output_type": "execute_result"
    }
   ],
   "source": [
    "#示例,计算第一个用户,第8个物品的用户的评价预测\n",
    "get_evaluation_prediction(user_index= 0, item_index= 7,matrix = matrix,k = 3)"
   ]
  },
  {
   "cell_type": "code",
   "execution_count": 115,
   "metadata": {},
   "outputs": [],
   "source": [
    "# 最后计算目标用户所有未使用过物品的预测评分,最终的推荐列表根据得分进行排序即可\n",
    "def get_recommend(user_index, matrix, top_k = 5):\n",
    "    # 未使用过的物品\n",
    "    unuse_items = [i for i,x in enumerate(matrix[user_index]) if x == 0] #评分为0的表示未使用过\n",
    "\n",
    "    # 预测评分\n",
    "    predict_scores = []\n",
    "\n",
    "    # 对每个未使用的物品进行预测\n",
    "    for item_index in unuse_items:\n",
    "        # 对该物品进行评分预测\n",
    "        prediction = get_evaluation_prediction(user_index, item_index, matrix, k = top_k)\n",
    "\n",
    "        predict_scores.append((item_index, prediction))\n",
    "    \n",
    "    predict_scores.sort(key = lambda x:x[1],reverse= True)\n",
    "\n",
    "    return predict_scores[:top_k]\n",
    "\n"
   ]
  },
  {
   "cell_type": "code",
   "execution_count": 116,
   "metadata": {},
   "outputs": [
    {
     "data": {
      "text/plain": [
       "array([[3, 4, 2, 4, 4, 1, 2, 2],\n",
       "       [2, 4, 3, 2, 5, 4, 1, 3],\n",
       "       [5, 5, 1, 3, 4, 0, 3, 1],\n",
       "       [5, 4, 3, 0, 0, 2, 2, 1]])"
      ]
     },
     "execution_count": 116,
     "metadata": {},
     "output_type": "execute_result"
    }
   ],
   "source": [
    "matrix"
   ]
  },
  {
   "cell_type": "code",
   "execution_count": 117,
   "metadata": {},
   "outputs": [
    {
     "data": {
      "text/plain": [
       "[(4, 4.329826164304694), (3, 3.042637466393807)]"
      ]
     },
     "execution_count": 117,
     "metadata": {},
     "output_type": "execute_result"
    }
   ],
   "source": [
    "# 示例:获得最终的推荐列表\n",
    "recomend = get_recommend(user_index = 3, matrix = matrix, top_k = 5)\n",
    "recomend"
   ]
  },
  {
   "cell_type": "markdown",
   "metadata": {},
   "source": [
    "### ItemCF\n",
    "物品相似度计算\n",
    "ItemCF的具体步骤如下：\n",
    "\n",
    "1. 基于历史数据，构建以用户（假设用户总数为m）为行坐标，物品（物品总数为n）为列坐标的 ( $m \\times n $) 维的共现矩阵。\n",
    "2. **计算共现矩阵两两列向量间的相似性（相似度的计算方式与用户相似度的计算方式相同），构建 $( n \\times n$ \\) 维的物品相似度矩阵。**\n",
    "3. 获得用户历史行为数据中的正反馈物品列表。\n",
    "4. **利用物品相似度矩阵，针对目标用户历史行为中的正反馈物品，找出相似的Top K个物品，组成相似物品集合。**\n",
    "5. 对相似物品集合中的物品，利用相似度分值进行排序，生成最终的推荐列表。\n",
    "\n",
    "公式如下\n",
    "$$ R_{u,p} = \\sum_{h \\in H}  (w_{p,h} \\cdot R_{u,h})$$ \n",
    "\n",
    "其中，H是目标用户的正反馈物品集合，($w_{p,h}$) **是物品p与物品h的物品相似度**，$R_{u,h}$ 是用户u对物品h的已有评分。\n"
   ]
  },
  {
   "cell_type": "code",
   "execution_count": 109,
   "metadata": {},
   "outputs": [],
   "source": [
    "def get_item_similarity_matrix(matrix):\n",
    "    #构建n*n的矩阵\n",
    "    item_matrix = np.zeros([matrix.shape[1],matrix.shape[1]],dtype=np.float32)\n",
    "    \n",
    "    for i in range(matrix.shape[1]):\n",
    "        for j in range(i,matrix.shape[1]):\n",
    "            item_matrix[i][j] = item_matrix[j][i] = cosine_similarity(matrix[:,i],matrix[:,j])\n",
    "\n",
    "    return item_matrix\n"
   ]
  },
  {
   "cell_type": "code",
   "execution_count": 136,
   "metadata": {},
   "outputs": [
    {
     "data": {
      "text/plain": [
       "array([[3, 4, 2, 4, 4, 1, 2, 2],\n",
       "       [2, 4, 3, 2, 5, 4, 1, 3],\n",
       "       [5, 5, 1, 3, 4, 0, 3, 1],\n",
       "       [5, 4, 3, 0, 0, 2, 2, 1]])"
      ]
     },
     "execution_count": 136,
     "metadata": {},
     "output_type": "execute_result"
    }
   ],
   "source": [
    "matrix = generate_random_matrix(rows = 4,cols = 8,min_value = 0, max_value = 5,seed = 42)\n",
    "matrix"
   ]
  },
  {
   "cell_type": "code",
   "execution_count": 137,
   "metadata": {},
   "outputs": [
    {
     "data": {
      "text/html": [
       "<div>\n",
       "<style scoped>\n",
       "    .dataframe tbody tr th:only-of-type {\n",
       "        vertical-align: middle;\n",
       "    }\n",
       "\n",
       "    .dataframe tbody tr th {\n",
       "        vertical-align: top;\n",
       "    }\n",
       "\n",
       "    .dataframe thead th {\n",
       "        text-align: right;\n",
       "    }\n",
       "</style>\n",
       "<table border=\"1\" class=\"dataframe\">\n",
       "  <thead>\n",
       "    <tr style=\"text-align: right;\">\n",
       "      <th></th>\n",
       "      <th>0</th>\n",
       "      <th>1</th>\n",
       "      <th>2</th>\n",
       "      <th>3</th>\n",
       "      <th>4</th>\n",
       "      <th>5</th>\n",
       "      <th>6</th>\n",
       "      <th>7</th>\n",
       "    </tr>\n",
       "  </thead>\n",
       "  <tbody>\n",
       "    <tr>\n",
       "      <th>0</th>\n",
       "      <td>1.000000</td>\n",
       "      <td>0.958477</td>\n",
       "      <td>0.840651</td>\n",
       "      <td>0.725258</td>\n",
       "      <td>0.700877</td>\n",
       "      <td>0.577350</td>\n",
       "      <td>0.979958</td>\n",
       "      <td>0.715660</td>\n",
       "    </tr>\n",
       "    <tr>\n",
       "      <th>1</th>\n",
       "      <td>0.958477</td>\n",
       "      <td>1.000000</td>\n",
       "      <td>0.902976</td>\n",
       "      <td>0.847626</td>\n",
       "      <td>0.868139</td>\n",
       "      <td>0.715133</td>\n",
       "      <td>0.965540</td>\n",
       "      <td>0.876377</td>\n",
       "    </tr>\n",
       "    <tr>\n",
       "      <th>2</th>\n",
       "      <td>0.840651</td>\n",
       "      <td>0.902976</td>\n",
       "      <td>1.000000</td>\n",
       "      <td>0.658243</td>\n",
       "      <td>0.745697</td>\n",
       "      <td>0.910031</td>\n",
       "      <td>0.786357</td>\n",
       "      <td>0.915249</td>\n",
       "    </tr>\n",
       "    <tr>\n",
       "      <th>3</th>\n",
       "      <td>0.725258</td>\n",
       "      <td>0.847626</td>\n",
       "      <td>0.658243</td>\n",
       "      <td>1.000000</td>\n",
       "      <td>0.934646</td>\n",
       "      <td>0.486265</td>\n",
       "      <td>0.831607</td>\n",
       "      <td>0.815088</td>\n",
       "    </tr>\n",
       "    <tr>\n",
       "      <th>4</th>\n",
       "      <td>0.700877</td>\n",
       "      <td>0.868139</td>\n",
       "      <td>0.745697</td>\n",
       "      <td>0.934646</td>\n",
       "      <td>1.000000</td>\n",
       "      <td>0.693688</td>\n",
       "      <td>0.780488</td>\n",
       "      <td>0.923380</td>\n",
       "    </tr>\n",
       "    <tr>\n",
       "      <th>5</th>\n",
       "      <td>0.577350</td>\n",
       "      <td>0.715133</td>\n",
       "      <td>0.910031</td>\n",
       "      <td>0.486265</td>\n",
       "      <td>0.693688</td>\n",
       "      <td>1.000000</td>\n",
       "      <td>0.514345</td>\n",
       "      <td>0.901498</td>\n",
       "    </tr>\n",
       "    <tr>\n",
       "      <th>6</th>\n",
       "      <td>0.979958</td>\n",
       "      <td>0.965540</td>\n",
       "      <td>0.786357</td>\n",
       "      <td>0.831607</td>\n",
       "      <td>0.780488</td>\n",
       "      <td>0.514345</td>\n",
       "      <td>1.000000</td>\n",
       "      <td>0.730297</td>\n",
       "    </tr>\n",
       "    <tr>\n",
       "      <th>7</th>\n",
       "      <td>0.715660</td>\n",
       "      <td>0.876377</td>\n",
       "      <td>0.915249</td>\n",
       "      <td>0.815088</td>\n",
       "      <td>0.923380</td>\n",
       "      <td>0.901498</td>\n",
       "      <td>0.730297</td>\n",
       "      <td>1.000000</td>\n",
       "    </tr>\n",
       "  </tbody>\n",
       "</table>\n",
       "</div>"
      ],
      "text/plain": [
       "          0         1         2         3         4         5         6  \\\n",
       "0  1.000000  0.958477  0.840651  0.725258  0.700877  0.577350  0.979958   \n",
       "1  0.958477  1.000000  0.902976  0.847626  0.868139  0.715133  0.965540   \n",
       "2  0.840651  0.902976  1.000000  0.658243  0.745697  0.910031  0.786357   \n",
       "3  0.725258  0.847626  0.658243  1.000000  0.934646  0.486265  0.831607   \n",
       "4  0.700877  0.868139  0.745697  0.934646  1.000000  0.693688  0.780488   \n",
       "5  0.577350  0.715133  0.910031  0.486265  0.693688  1.000000  0.514345   \n",
       "6  0.979958  0.965540  0.786357  0.831607  0.780488  0.514345  1.000000   \n",
       "7  0.715660  0.876377  0.915249  0.815088  0.923380  0.901498  0.730297   \n",
       "\n",
       "          7  \n",
       "0  0.715660  \n",
       "1  0.876377  \n",
       "2  0.915249  \n",
       "3  0.815088  \n",
       "4  0.923380  \n",
       "5  0.901498  \n",
       "6  0.730297  \n",
       "7  1.000000  "
      ]
     },
     "execution_count": 137,
     "metadata": {},
     "output_type": "execute_result"
    }
   ],
   "source": [
    "#物品相似度进行展示\n",
    "item_similarity_matrix = get_item_similarity_matrix(matrix)\n",
    "pd.DataFrame(item_similarity_matrix)"
   ]
  },
  {
   "cell_type": "code",
   "execution_count": 110,
   "metadata": {},
   "outputs": [],
   "source": [
    "def get_evaluation_prediction_by_item(item_similarity_matrix, item_index, user_vector):\n",
    "    \"\"\"\n",
    "    根据物品相似度矩阵和用户评分向量预测评分\n",
    "    :param item_similarity_matrix: 物品相似度矩阵\n",
    "    :param item_index: 目标物品的索引\n",
    "    :param user_vector: 用户的评分向量\n",
    "    :return: 对目标物品的预测评分\n",
    "    \"\"\"\n",
    "    vector = np.delete(user_vector, item_index)\n",
    "    \n",
    "    # get similarity vector\n",
    "    similarity_vector = np.delete(item_similarity_matrix[item_index], item_index)\n",
    "\n",
    "    prediction = np.sum(vector *similarity_vector)\n",
    "    \n",
    "    return prediction\n",
    "\n",
    "\n"
   ]
  },
  {
   "cell_type": "code",
   "execution_count": 128,
   "metadata": {},
   "outputs": [
    {
     "data": {
      "text/plain": [
       "12.88000738620758"
      ]
     },
     "execution_count": 128,
     "metadata": {},
     "output_type": "execute_result"
    }
   ],
   "source": [
    "#示例: 对第四个用户 获取第七个商品的预测评分\n",
    "get_evaluation_prediction_by_item(item_similarity_matrix= item_similarity_matrix, item_index = 6, user_vector = matrix[3])"
   ]
  },
  {
   "cell_type": "code",
   "execution_count": 133,
   "metadata": {},
   "outputs": [],
   "source": [
    "def get_item_recommend(user_index, matrix, top_k=5):\n",
    "    Unused_list = [index for index,x in enumerate(matrix[user_index]) if x == 0]\n",
    "    res = []\n",
    "    item_similarity_matrix = get_item_similarity_matrix(matrix)\n",
    "\n",
    "    for index in Unused_list:\n",
    "        prediction = get_evaluation_prediction_by_item(item_similarity_matrix = item_similarity_matrix, item_index = index, user_vector= matrix[user_index])\n",
    "        res.append((index, prediction))\n",
    "\n",
    "    res.sort(key = lambda x:x[1], reverse = True)\n",
    "\n",
    "    return res[:top_k]\n",
    "\n",
    "    "
   ]
  },
  {
   "cell_type": "code",
   "execution_count": 135,
   "metadata": {},
   "outputs": [
    {
     "data": {
      "text/plain": [
       "[(4, 13.085762321949005), (3, 12.442351639270782)]"
      ]
     },
     "execution_count": 135,
     "metadata": {},
     "output_type": "execute_result"
    }
   ],
   "source": [
    "#示例 对于上述第四个用户,推荐其未看过的四部电影\n",
    "recommend = get_item_recommend(3,matrix, 5)\n",
    "recommend"
   ]
  }
 ],
 "metadata": {
  "kernelspec": {
   "display_name": "base",
   "language": "python",
   "name": "python3"
  },
  "language_info": {
   "codemirror_mode": {
    "name": "ipython",
    "version": 3
   },
   "file_extension": ".py",
   "mimetype": "text/x-python",
   "name": "python",
   "nbconvert_exporter": "python",
   "pygments_lexer": "ipython3",
   "version": "3.10.9"
  }
 },
 "nbformat": 4,
 "nbformat_minor": 2
}
